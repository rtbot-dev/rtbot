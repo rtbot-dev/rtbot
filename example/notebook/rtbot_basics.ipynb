{
 "cells": [
  {
   "cell_type": "code",
   "execution_count": 1,
   "id": "unlimited-alarm",
   "metadata": {},
   "outputs": [],
   "source": [
    "import sys\n",
    "sys.path.append(\"../../dist/bin/python\")  # set to correct path for module\"\n",
    "import rtbot"
   ]
  },
  {
   "cell_type": "code",
   "execution_count": 2,
   "id": "integral-swedish",
   "metadata": {},
   "outputs": [],
   "source": [
    "buff=rtbot.Buffer(channelSize=3, windowSize=2)"
   ]
  },
  {
   "cell_type": "code",
   "execution_count": 3,
   "id": "british-exception",
   "metadata": {},
   "outputs": [
    {
     "data": {
      "text/plain": [
       "[[1.0, 1.0, 1.0]]"
      ]
     },
     "execution_count": 3,
     "metadata": {},
     "output_type": "execute_result"
    }
   ],
   "source": [
    "buff.add([1,1,1])\n",
    "buff.getData()"
   ]
  },
  {
   "cell_type": "code",
   "execution_count": 4,
   "id": "addressed-blackjack",
   "metadata": {},
   "outputs": [
    {
     "data": {
      "text/plain": [
       "[[1.0, 1.0, 1.0], [2.0, 2.0, 2.0]]"
      ]
     },
     "execution_count": 4,
     "metadata": {},
     "output_type": "execute_result"
    }
   ],
   "source": [
    "buff.add([2,2,2])\n",
    "buff.getData()"
   ]
  },
  {
   "cell_type": "code",
   "execution_count": 5,
   "id": "b6665eab-4ed6-4e24-9b8d-af3e8af0aa0b",
   "metadata": {},
   "outputs": [
    {
     "data": {
      "text/plain": [
       "[[2.0, 2.0, 2.0], [3.0, 3.0, 3.0]]"
      ]
     },
     "execution_count": 5,
     "metadata": {},
     "output_type": "execute_result"
    }
   ],
   "source": [
    "buff.add([3,3,3])\n",
    "buff.getData()"
   ]
  },
  {
   "cell_type": "markdown",
   "id": "a354ca73-71da-4ccd-b829-66aec9394114",
   "metadata": {},
   "source": [
    "Up to this point all fine but the next addition gives a wrong behavior:"
   ]
  },
  {
   "cell_type": "code",
   "execution_count": 6,
   "id": "38380209-0c91-46de-ba17-2f779f703636",
   "metadata": {},
   "outputs": [
    {
     "data": {
      "text/plain": [
       "[[4.0, 4.0, 4.0], [2.0, 2.0, 2.0]]"
      ]
     },
     "execution_count": 6,
     "metadata": {},
     "output_type": "execute_result"
    }
   ],
   "source": [
    "buff.add([4,4,4])\n",
    "buff.getData()"
   ]
  },
  {
   "cell_type": "code",
   "execution_count": 7,
   "id": "af2b1ca0-8062-454e-9641-42ff19bcd1bb",
   "metadata": {},
   "outputs": [
    {
     "data": {
      "text/plain": [
       "[[2.0, 2.0, 2.0], [5.0, 5.0, 5.0]]"
      ]
     },
     "execution_count": 7,
     "metadata": {},
     "output_type": "execute_result"
    }
   ],
   "source": [
    "buff.add([5,5,5])\n",
    "buff.getData()"
   ]
  },
  {
   "cell_type": "code",
   "execution_count": null,
   "id": "36071319-b9e2-4bc4-9d6f-4bbdc71acdb2",
   "metadata": {},
   "outputs": [],
   "source": []
  }
 ],
 "metadata": {
  "kernelspec": {
   "display_name": "Python 3 (ipykernel)",
   "language": "python",
   "name": "python3"
  },
  "language_info": {
   "codemirror_mode": {
    "name": "ipython",
    "version": 3
   },
   "file_extension": ".py",
   "mimetype": "text/x-python",
   "name": "python",
   "nbconvert_exporter": "python",
   "pygments_lexer": "ipython3",
   "version": "3.10.8"
  }
 },
 "nbformat": 4,
 "nbformat_minor": 5
}
