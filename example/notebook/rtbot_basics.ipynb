{
 "cells": [
  {
   "cell_type": "code",
   "execution_count": 1,
   "id": "unlimited-alarm",
   "metadata": {},
   "outputs": [],
   "source": [
    "import sys\n",
    "sys.path.append(\"../../build/python\")  # set to correct path for module\"\n",
    "import rtbotpy"
   ]
  },
  {
   "cell_type": "code",
   "execution_count": 2,
   "id": "integral-swedish",
   "metadata": {},
   "outputs": [],
   "source": [
    "buff=rtbotpy.Buffer(channelSize=3, windowSize=2)"
   ]
  },
  {
   "cell_type": "code",
   "execution_count": 3,
   "id": "british-exception",
   "metadata": {},
   "outputs": [
    {
     "data": {
      "text/plain": [
       "[[1.0], [2.0], [3.0]]"
      ]
     },
     "execution_count": 3,
     "metadata": {},
     "output_type": "execute_result"
    }
   ],
   "source": [
    "buff.add([1,2,3])\n",
    "buff.to_matrix()"
   ]
  },
  {
   "cell_type": "code",
   "execution_count": 4,
   "id": "addressed-blackjack",
   "metadata": {},
   "outputs": [
    {
     "data": {
      "text/plain": [
       "[[1.0, 4.0], [2.0, 5.0], [3.0, 6.0]]"
      ]
     },
     "execution_count": 4,
     "metadata": {},
     "output_type": "execute_result"
    }
   ],
   "source": [
    "buff.add([4,5,6])\n",
    "buff.to_matrix()"
   ]
  },
  {
   "cell_type": "code",
   "execution_count": 5,
   "id": "lesbian-saturday",
   "metadata": {},
   "outputs": [
    {
     "data": {
      "text/plain": [
       "[[4.0, 7.0], [5.0, 8.0], [6.0, 9.0]]"
      ]
     },
     "execution_count": 5,
     "metadata": {},
     "output_type": "execute_result"
    }
   ],
   "source": [
    "buff.add([7,8,9])\n",
    "buff.to_matrix()"
   ]
  },
  {
   "cell_type": "code",
   "execution_count": null,
   "id": "tribal-pocket",
   "metadata": {},
   "outputs": [],
   "source": []
  }
 ],
 "metadata": {
  "kernelspec": {
   "display_name": "Python 3",
   "language": "python",
   "name": "python3"
  },
  "language_info": {
   "codemirror_mode": {
    "name": "ipython",
    "version": 3
   },
   "file_extension": ".py",
   "mimetype": "text/x-python",
   "name": "python",
   "nbconvert_exporter": "python",
   "pygments_lexer": "ipython3",
   "version": "3.8.5"
  }
 },
 "nbformat": 4,
 "nbformat_minor": 5
}
