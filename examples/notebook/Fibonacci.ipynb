{
 "cells": [
  {
   "cell_type": "code",
   "execution_count": 1,
   "id": "497f16d2-6f5a-4d65-b17e-11574474707c",
   "metadata": {},
   "outputs": [
    {
     "data": {
      "text/html": [
       "<img src=\"https://mermaid.ink/img/Zmxvd2NoYXJ0IExSO2luMSgiSW5wdXQoMSkiKSAtLT4gfG8xOmkxfCBjb3VudDEoIkNvdW50Iik7CmluMSgiSW5wdXQoMSkiKSAtLT4gfG8xOmkxfCBkZW11bDEoIkRlbXVsdGlwbGV4ZXIoMikiKTsKY291bnQxKCJDb3VudCIpIC0tPiB8bzE6aTF8IGVxMSgiRXF1YWxUbygxKSIpOwpjb3VudDEoIkNvdW50IikgLS0+IHxvMTppMXwgZXEyKCJFcXVhbFRvKDIpIik7CmNvdW50MSgiQ291bnQiKSAtLT4gfG8xOmkxfCBndDEoIkdyZWF0ZXJUaGFuKDIpIik7CmVxMSgiRXF1YWxUbygxKSIpIC0tPiB8bzE6aTF8IGNvbnN0YzFlcTEoIkNvbnN0YW50KDEpIik7CmVxMSgiRXF1YWxUbygxKSIpIC0tPiB8bzE6aTF8IGNvbnN0YzJlcTEoIkNvbnN0YW50KDApIik7CmVxMigiRXF1YWxUbygyKSIpIC0tPiB8bzE6aTF8IGNvbnN0YzFlcTIoIkNvbnN0YW50KDEpIik7CmVxMigiRXF1YWxUbygyKSIpIC0tPiB8bzE6aTF8IGNvbnN0YzJlcTIoIkNvbnN0YW50KDEpIik7CmNvbnN0YzFlcTEoIkNvbnN0YW50KDEpIikgLS0+IHxvMTpjMXwgZGVtdWwxKCJEZW11bHRpcGxleGVyKDIpIik7CmNvbnN0YzJlcTEoIkNvbnN0YW50KDApIikgLS0+IHxvMTpjMnwgZGVtdWwxKCJEZW11bHRpcGxleGVyKDIpIik7CmNvbnN0YzFlcTIoIkNvbnN0YW50KDEpIikgLS0+IHxvMTpjMXwgZGVtdWwxKCJEZW11bHRpcGxleGVyKDIpIik7CmNvbnN0YzJlcTIoIkNvbnN0YW50KDEpIikgLS0+IHxvMTpjMnwgZGVtdWwxKCJEZW11bHRpcGxleGVyKDIpIik7Cg==\"/>"
      ],
      "text/plain": [
       "<IPython.core.display.Image object>"
      ]
     },
     "metadata": {},
     "output_type": "display_data"
    }
   ],
   "source": [
    "import rtbot as rb\n",
    "import numpy as np\n",
    "import json\n",
    "from rtbot import operators as op\n",
    "from IPython.display import JSON\n",
    "\n",
    "program = rb.Program(\n",
    "    title = \"Fibonnaci\",\n",
    "    description = \"Computes the Fibonnaci sequence\",\n",
    ").addOperator(op.Input(\"in1\")) \\\n",
    ".addOperator(op.Count(\"count1\")) \\\n",
    ".addOperator(op.EqualTo(\"eq1\", 1)) \\\n",
    ".addOperator(op.EqualTo(\"eq2\", 2)) \\\n",
    ".addOperator(op.GreaterThan(\"gt1\", 2)) \\\n",
    ".addOperator(op.Demultiplexer(\"demul1\")) \\\n",
    ".addOperator(op.Constant(\"constc1eq1\", 1)) \\\n",
    ".addOperator(op.Constant(\"constc2eq1\", 0)) \\\n",
    ".addOperator(op.Constant(\"constc1eq2\", 1)) \\\n",
    ".addOperator(op.Constant(\"constc2eq2\", 1))\n",
    "\n",
    "program.addConnection(\"in1\", \"count1\") \\\n",
    ".addConnection(\"in1\", \"demul1\") \\\n",
    ".addConnection(\"count1\", \"eq1\") \\\n",
    ".addConnection(\"count1\", \"eq2\") \\\n",
    ".addConnection(\"count1\", \"gt1\") \\\n",
    ".addConnection(\"eq1\", \"constc1eq1\") \\\n",
    ".addConnection(\"eq1\", \"constc2eq1\") \\\n",
    ".addConnection(\"eq2\", \"constc1eq2\") \\\n",
    ".addConnection(\"eq2\", \"constc2eq2\") \\\n",
    ".addConnection(\"constc1eq1\", \"demul1\", \"o1\", \"c1\") \\\n",
    ".addConnection(\"constc2eq1\", \"demul1\", \"o1\", \"c2\") \\\n",
    ".addConnection(\"constc1eq2\", \"demul1\", \"o1\", \"c1\") \\\n",
    ".addConnection(\"constc2eq2\", \"demul1\", \"o1\", \"c2\")\n",
    "\n",
    "program.validate()\n",
    "import base64\n",
    "from IPython.display import Image, display\n",
    "\n",
    "def mm(graph):\n",
    "  graphbytes = graph.encode(\"ascii\")\n",
    "  base64_bytes = base64.b64encode(graphbytes)\n",
    "  base64_string = base64_bytes.decode(\"ascii\")\n",
    "  display(\n",
    "    Image(\n",
    "      url=\"https://mermaid.ink/img/\"\n",
    "      + base64_string\n",
    "    )\n",
    "  )\n",
    "\n",
    "mm(program.toMermaidJs())"
   ]
  },
  {
   "cell_type": "code",
   "execution_count": 5,
   "id": "e70e565e-98da-474c-a4d3-235c8b517a38",
   "metadata": {},
   "outputs": [
    {
     "data": {
      "text/plain": [
       "[{'time': [1, 2], 'value': [1.0, 2.0]}, {'time': [2], 'value': [2.0]}]"
      ]
     },
     "execution_count": 5,
     "metadata": {},
     "output_type": "execute_result"
    }
   ],
   "source": [
    "data = list(map(lambda r: [r, r], list(np.arange(1, 20))))\n",
    "result = rb.Run(program, data).exec()\n",
    "[result[\"demul1:o1\"], result[\"demul1:o2\"]]"
   ]
  },
  {
   "cell_type": "code",
   "execution_count": 2,
   "id": "ec616724-38bf-4bb5-bd92-2b56e0e37a79",
   "metadata": {},
   "outputs": [
    {
     "data": {
      "application/json": {
       "apiVersion": "v1",
       "connections": [
        {
         "from": "in1",
         "fromPort": "o1",
         "to": "count1",
         "toPort": "i1"
        },
        {
         "from": "in1",
         "fromPort": "o1",
         "to": "demul1",
         "toPort": "i1"
        },
        {
         "from": "count1",
         "fromPort": "o1",
         "to": "eq1",
         "toPort": "i1"
        },
        {
         "from": "count1",
         "fromPort": "o1",
         "to": "eq2",
         "toPort": "i1"
        },
        {
         "from": "count1",
         "fromPort": "o1",
         "to": "gt1",
         "toPort": "i1"
        },
        {
         "from": "eq1",
         "fromPort": "o1",
         "to": "constc1eq1",
         "toPort": "i1"
        },
        {
         "from": "eq1",
         "fromPort": "o1",
         "to": "constc2eq1",
         "toPort": "i1"
        },
        {
         "from": "eq2",
         "fromPort": "o1",
         "to": "constc1eq2",
         "toPort": "i1"
        },
        {
         "from": "eq2",
         "fromPort": "o1",
         "to": "constc2eq2",
         "toPort": "i1"
        },
        {
         "from": "constc1eq1",
         "fromPort": "o1",
         "to": "demul1",
         "toPort": "c1"
        },
        {
         "from": "constc2eq1",
         "fromPort": "o1",
         "to": "demul1",
         "toPort": "c2"
        },
        {
         "from": "constc1eq2",
         "fromPort": "o1",
         "to": "demul1",
         "toPort": "c1"
        },
        {
         "from": "constc2eq2",
         "fromPort": "o1",
         "to": "demul1",
         "toPort": "c2"
        }
       ],
       "description": "Computes the Fibonnaci sequence",
       "operators": [
        {
         "id": "in1",
         "numPorts": 1,
         "type": "Input"
        },
        {
         "id": "count1",
         "type": "Count"
        },
        {
         "id": "eq1",
         "type": "EqualTo",
         "x": 1
        },
        {
         "id": "eq2",
         "type": "EqualTo",
         "x": 2
        },
        {
         "id": "gt1",
         "type": "GreaterThan",
         "x": 2
        },
        {
         "id": "demul1",
         "numOutputPorts": 2,
         "type": "Demultiplexer"
        },
        {
         "c": 1,
         "id": "constc1eq1",
         "type": "Constant"
        },
        {
         "c": 0,
         "id": "constc2eq1",
         "type": "Constant"
        },
        {
         "c": 1,
         "id": "constc1eq2",
         "type": "Constant"
        },
        {
         "c": 1,
         "id": "constc2eq2",
         "type": "Constant"
        }
       ],
       "title": "Fibonnaci"
      },
      "text/plain": [
       "<IPython.core.display.JSON object>"
      ]
     },
     "execution_count": 2,
     "metadata": {
      "application/json": {
       "expanded": false,
       "root": "root"
      }
     },
     "output_type": "execute_result"
    }
   ],
   "source": [
    "import json\n",
    "from IPython.display import JSON\n",
    "\n",
    "program.validate()\n",
    "JSON(json.loads(program.toJson()))"
   ]
  },
  {
   "cell_type": "code",
   "execution_count": 2,
   "id": "55d75134-e33a-4df1-96f5-77d366a55f04",
   "metadata": {},
   "outputs": [
    {
     "name": "stdout",
     "output_type": "stream",
     "text": [
      "flowchart LR;in1(Input) --> |o1:i1| count1(\"Count\");\n",
      "in1(Input) --> |o1:i1| demul1(\"Demultiplexer(2)\");\n",
      "count1(Count) --> |o1:i1| eq1(\"EqualTo(1)\");\n",
      "count1(Count) --> |o1:i1| eq2(\"EqualTo(2)\");\n",
      "count1(Count) --> |o1:i1| gt1(\"GreaterThan(2)\");\n",
      "eq1(EqualTo) --> |o1:i1| constc1eq1(\"Constant(1)\");\n",
      "eq1(EqualTo) --> |o1:i1| constc2eq1(\"Constant(0)\");\n",
      "eq2(EqualTo) --> |o1:i1| constc1eq2(\"Constant(1)\");\n",
      "eq2(EqualTo) --> |o1:i1| constc2eq2(\"Constant(1)\");\n",
      "constc1eq1(Constant) --> |o1:c1| demul1(\"Demultiplexer(2)\");\n",
      "constc2eq1(Constant) --> |o1:c2| demul1(\"Demultiplexer(2)\");\n",
      "constc1eq2(Constant) --> |o1:c1| demul1(\"Demultiplexer(2)\");\n",
      "constc2eq2(Constant) --> |o1:c2| demul1(\"Demultiplexer(2)\");\n",
      "\n"
     ]
    }
   ],
   "source": [
    "print(program.toMermaidJs())"
   ]
  },
  {
   "cell_type": "code",
   "execution_count": 16,
   "id": "3c7c0827-c3db-4ea4-9472-8b36e1f19b5d",
   "metadata": {},
   "outputs": [
    {
     "data": {
      "text/plain": [
       "['numOutputPorts']"
      ]
     },
     "execution_count": 16,
     "metadata": {},
     "output_type": "execute_result"
    }
   ],
   "source": [
    "args = []\n",
    "for k in program.operators[5].keys():\n",
    "    if k != \"id\" and k != \"type\":\n",
    "        args.append(k)\n",
    "\n",
    "args"
   ]
  },
  {
   "cell_type": "code",
   "execution_count": 19,
   "id": "9a00425e-18d2-4e6d-8ab5-139efaf41677",
   "metadata": {},
   "outputs": [
    {
     "data": {
      "text/plain": [
       "'a,b'"
      ]
     },
     "execution_count": 19,
     "metadata": {},
     "output_type": "execute_result"
    }
   ],
   "source": [
    "\",\".join([\"a\", \"b\"])"
   ]
  },
  {
   "cell_type": "code",
   "execution_count": null,
   "id": "1c582f47-b030-4111-ae03-47820a46bc0d",
   "metadata": {},
   "outputs": [],
   "source": []
  }
 ],
 "metadata": {
  "kernelspec": {
   "display_name": "Python 3 (ipykernel)",
   "language": "python",
   "name": "python3"
  },
  "language_info": {
   "codemirror_mode": {
    "name": "ipython",
    "version": 3
   },
   "file_extension": ".py",
   "mimetype": "text/x-python",
   "name": "python",
   "nbconvert_exporter": "python",
   "pygments_lexer": "ipython3",
   "version": "3.11.3"
  }
 },
 "nbformat": 4,
 "nbformat_minor": 5
}
