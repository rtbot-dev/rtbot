{
 "cells": [
  {
   "cell_type": "code",
   "execution_count": 3,
   "id": "497f16d2-6f5a-4d65-b17e-11574474707c",
   "metadata": {},
   "outputs": [
    {
     "data": {
      "text/html": [
       "<img src=\"https://mermaid.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\"/>"
      ],
      "text/plain": [
       "<IPython.core.display.Image object>"
      ]
     },
     "metadata": {},
     "output_type": "display_data"
    }
   ],
   "source": [
    "import rtbot as rb\n",
    "import numpy as np\n",
    "import json\n",
    "from rtbot import operators as op\n",
    "from IPython.display import JSON\n",
    "\n",
    "program = rb.Program(\n",
    "    title = \"Fibonnaci\",\n",
    "    description = \"Computes the Fibonnaci sequence\",\n",
    ").addOperator(op.Input(\"in1\")) \\\n",
    ".addOperator(op.Count(\"count1\")) \\\n",
    ".addOperator(op.EqualTo(\"eq1\", 1)) \\\n",
    ".addOperator(op.EqualTo(\"eq2\", 2)) \\\n",
    ".addOperator(op.GreaterThan(\"gt1\", 2)) \\\n",
    ".addOperator(op.Demultiplexer(\"demul1\", 2)) \\\n",
    ".addOperator(op.Constant(\"constc1eq1\", 1)) \\\n",
    ".addOperator(op.Constant(\"constc2eq1\", 0)) \\\n",
    ".addOperator(op.Constant(\"constc1eq2\", 1)) \\\n",
    ".addOperator(op.Constant(\"constc2eq2\", 1)) \\\n",
    ".addOperator(op.TimeShift(\"dt1\", 1, 1)) \\\n",
    ".addOperator(op.TimeShift(\"dt2\", 1, 2)) \\\n",
    ".addOperator(op.Constant(\"constdt1\", 1)) \\\n",
    ".addOperator(op.Constant(\"constdt2\", 1)) \\\n",
    ".addOperator(op.Variable(\"varn_2\", 0)) \\\n",
    ".addOperator(op.Variable(\"varn_1\", 0)) \\\n",
    ".addOperator(op.TimeShift(\"dt3\", 1, 1)) \\\n",
    ".addOperator(op.TimeShift(\"dt4\", 1, 2)) \\\n",
    ".addOperator(op.Minus(\"minus1\")) \\\n",
    ".addOperator(op.Scale(\"scale1\", -1))\n",
    "\n",
    "program.addConnection(\"in1\", \"count1\") \\\n",
    ".addConnection(\"in1\", \"demul1\") \\\n",
    ".addConnection(\"count1\", \"eq1\") \\\n",
    ".addConnection(\"count1\", \"eq2\") \\\n",
    ".addConnection(\"count1\", \"gt1\") \\\n",
    ".addConnection(\"eq1\", \"constc1eq1\") \\\n",
    ".addConnection(\"eq1\", \"constc2eq1\") \\\n",
    ".addConnection(\"eq2\", \"constc1eq2\") \\\n",
    ".addConnection(\"eq2\", \"constc2eq2\") \\\n",
    ".addConnection(\"constc1eq1\", \"demul1\", \"o1\", \"c1\") \\\n",
    ".addConnection(\"constc2eq1\", \"demul1\", \"o1\", \"c2\") \\\n",
    ".addConnection(\"constc1eq2\", \"demul1\", \"o1\", \"c1\") \\\n",
    ".addConnection(\"constc2eq2\", \"demul1\", \"o1\", \"c2\") \\\n",
    ".addConnection(\"demul1\", \"dt2\", \"o1\", \"i1\") \\\n",
    ".addConnection(\"demul1\", \"dt1\", \"o2\", \"i1\") \\\n",
    ".addConnection(\"dt1\", \"constdt1\") \\\n",
    ".addConnection(\"dt2\", \"constdt2\") \\\n",
    ".addConnection(\"constdt1\", \"varn_1\") \\\n",
    ".addConnection(\"constdt2\", \"varn_2\") \\\n",
    ".addConnection(\"gt1\", \"varn_1\", \"o1\", \"c1\") \\\n",
    ".addConnection(\"gt1\", \"varn_2\", \"o1\", \"c1\") \\\n",
    ".addConnection(\"varn_1\", \"scale1\") \\\n",
    ".addConnection(\"scale1\", \"minus1\", \"o1\", \"i2\") \\\n",
    ".addConnection(\"varn_2\", \"minus1\", \"o1\", \"i1\") \\\n",
    ".addConnection(\"minus1\", \"dt3\") \\\n",
    ".addConnection(\"minus1\", \"dt4\") \\\n",
    ".addConnection(\"dt3\", \"varn_1\") \\\n",
    ".addConnection(\"dt4\", \"varn_2\")\n",
    "\n",
    "program.validate()\n",
    "import base64\n",
    "from IPython.display import Image, display\n",
    "\n",
    "def mm(graph):\n",
    "  graphbytes = graph.encode(\"ascii\")\n",
    "  base64_bytes = base64.b64encode(graphbytes)\n",
    "  base64_string = base64_bytes.decode(\"ascii\")\n",
    "  display(\n",
    "    Image(\n",
    "      url=\"https://mermaid.ink/img/\"\n",
    "      + base64_string\n",
    "    )\n",
    "  )\n",
    "\n",
    "mm(program.toMermaidJs())"
   ]
  },
  {
   "cell_type": "code",
   "execution_count": 11,
   "id": "e70e565e-98da-474c-a4d3-235c8b517a38",
   "metadata": {},
   "outputs": [
    {
     "name": "stdout",
     "output_type": "stream",
     "text": [
      "[{'minus1:o1': [2.0, 3.0, 5.0, 8.0, 13.0, 21.0, 34.0, 55.0, 89.0, 144.0, 233.0, 377.0, 610.0, 987.0, 1597.0, 2584.0]}]\n"
     ]
    }
   ],
   "source": [
    "data = list(map(lambda r: [r, r], list(np.arange(1, 20))))\n",
    "result = rb.Run(program, data).exec()\n",
    "print(list(map(lambda k: {k: result[k][\"value\"]}, [\"minus1:o1\"])))"
   ]
  },
  {
   "cell_type": "markdown",
   "id": "3009e796-002b-45d4-b2ac-6b08e7cebc5f",
   "metadata": {},
   "source": [
    "now let's compare our result with a pure python implementation of Fibonacci:"
   ]
  },
  {
   "cell_type": "code",
   "execution_count": 12,
   "id": "55d75134-e33a-4df1-96f5-77d366a55f04",
   "metadata": {},
   "outputs": [
    {
     "name": "stdout",
     "output_type": "stream",
     "text": [
      "[1, 2, 3, 5, 8, 13, 21, 34, 55, 89, 144, 233, 377, 610, 987, 1597, 2584, 4181, 6765, 10946]\n"
     ]
    }
   ],
   "source": [
    "print((lambda i, x=[0,1]: [(x.append(x[y+1]+x[y]), x[y+1]+x[y])[1] for y in range(i)])(20))"
   ]
  },
  {
   "cell_type": "code",
   "execution_count": 13,
   "id": "ec616724-38bf-4bb5-bd92-2b56e0e37a79",
   "metadata": {},
   "outputs": [
    {
     "data": {
      "application/json": {
       "apiVersion": "v1",
       "connections": [
        {
         "from": "in1",
         "fromPort": "o1",
         "to": "count1",
         "toPort": "i1"
        },
        {
         "from": "in1",
         "fromPort": "o1",
         "to": "demul1",
         "toPort": "i1"
        },
        {
         "from": "count1",
         "fromPort": "o1",
         "to": "eq1",
         "toPort": "i1"
        },
        {
         "from": "count1",
         "fromPort": "o1",
         "to": "eq2",
         "toPort": "i1"
        },
        {
         "from": "count1",
         "fromPort": "o1",
         "to": "gt1",
         "toPort": "i1"
        },
        {
         "from": "eq1",
         "fromPort": "o1",
         "to": "constc1eq1",
         "toPort": "i1"
        },
        {
         "from": "eq1",
         "fromPort": "o1",
         "to": "constc2eq1",
         "toPort": "i1"
        },
        {
         "from": "eq2",
         "fromPort": "o1",
         "to": "constc1eq2",
         "toPort": "i1"
        },
        {
         "from": "eq2",
         "fromPort": "o1",
         "to": "constc2eq2",
         "toPort": "i1"
        },
        {
         "from": "constc1eq1",
         "fromPort": "o1",
         "to": "demul1",
         "toPort": "c1"
        },
        {
         "from": "constc2eq1",
         "fromPort": "o1",
         "to": "demul1",
         "toPort": "c2"
        },
        {
         "from": "constc1eq2",
         "fromPort": "o1",
         "to": "demul1",
         "toPort": "c1"
        },
        {
         "from": "constc2eq2",
         "fromPort": "o1",
         "to": "demul1",
         "toPort": "c2"
        },
        {
         "from": "demul1",
         "fromPort": "o1",
         "to": "dt2",
         "toPort": "i1"
        },
        {
         "from": "demul1",
         "fromPort": "o2",
         "to": "dt1",
         "toPort": "i1"
        },
        {
         "from": "dt1",
         "fromPort": "o1",
         "to": "constdt1",
         "toPort": "i1"
        },
        {
         "from": "dt2",
         "fromPort": "o1",
         "to": "constdt2",
         "toPort": "i1"
        },
        {
         "from": "constdt1",
         "fromPort": "o1",
         "to": "varn_1",
         "toPort": "i1"
        },
        {
         "from": "constdt2",
         "fromPort": "o1",
         "to": "varn_2",
         "toPort": "i1"
        },
        {
         "from": "gt1",
         "fromPort": "o1",
         "to": "varn_1",
         "toPort": "c1"
        },
        {
         "from": "gt1",
         "fromPort": "o1",
         "to": "varn_2",
         "toPort": "c1"
        },
        {
         "from": "varn_1",
         "fromPort": "o1",
         "to": "scale1",
         "toPort": "i1"
        },
        {
         "from": "scale1",
         "fromPort": "o1",
         "to": "minus1",
         "toPort": "i2"
        },
        {
         "from": "varn_2",
         "fromPort": "o1",
         "to": "minus1",
         "toPort": "i1"
        },
        {
         "from": "minus1",
         "fromPort": "o1",
         "to": "dt3",
         "toPort": "i1"
        },
        {
         "from": "minus1",
         "fromPort": "o1",
         "to": "dt4",
         "toPort": "i1"
        },
        {
         "from": "dt3",
         "fromPort": "o1",
         "to": "varn_1",
         "toPort": "i1"
        },
        {
         "from": "dt4",
         "fromPort": "o1",
         "to": "varn_2",
         "toPort": "i1"
        }
       ],
       "description": "Computes the Fibonnaci sequence",
       "operators": [
        {
         "id": "in1",
         "numPorts": 1,
         "type": "Input"
        },
        {
         "id": "count1",
         "type": "Count"
        },
        {
         "id": "eq1",
         "type": "EqualTo",
         "x": 1
        },
        {
         "id": "eq2",
         "type": "EqualTo",
         "x": 2
        },
        {
         "id": "gt1",
         "type": "GreaterThan",
         "x": 2
        },
        {
         "id": "demul1",
         "numOutputPorts": 2,
         "type": "Demultiplexer"
        },
        {
         "c": 1,
         "id": "constc1eq1",
         "type": "Constant"
        },
        {
         "c": 0,
         "id": "constc2eq1",
         "type": "Constant"
        },
        {
         "c": 1,
         "id": "constc1eq2",
         "type": "Constant"
        },
        {
         "c": 1,
         "id": "constc2eq2",
         "type": "Constant"
        },
        {
         "dt": 1,
         "id": "dt1",
         "times": 1,
         "type": "TimeShift"
        },
        {
         "dt": 1,
         "id": "dt2",
         "times": 2,
         "type": "TimeShift"
        },
        {
         "c": 1,
         "id": "constdt1",
         "type": "Constant"
        },
        {
         "c": 1,
         "id": "constdt2",
         "type": "Constant"
        },
        {
         "defaultValue": 0,
         "id": "varn_2",
         "type": "Variable"
        },
        {
         "defaultValue": 0,
         "id": "varn_1",
         "type": "Variable"
        },
        {
         "dt": 1,
         "id": "dt3",
         "times": 1,
         "type": "TimeShift"
        },
        {
         "dt": 1,
         "id": "dt4",
         "times": 2,
         "type": "TimeShift"
        },
        {
         "id": "minus1",
         "type": "Minus"
        },
        {
         "f": -1,
         "id": "scale1",
         "type": "Scale"
        }
       ],
       "title": "Fibonnaci"
      },
      "text/plain": [
       "<IPython.core.display.JSON object>"
      ]
     },
     "execution_count": 13,
     "metadata": {
      "application/json": {
       "expanded": false,
       "root": "root"
      }
     },
     "output_type": "execute_result"
    }
   ],
   "source": [
    "import json\n",
    "from IPython.display import JSON\n",
    "\n",
    "program.validate()\n",
    "JSON(json.loads(program.toJson()))"
   ]
  },
  {
   "cell_type": "code",
   "execution_count": null,
   "id": "765f76d7-bb53-41a1-adda-f4ba338bfa27",
   "metadata": {},
   "outputs": [],
   "source": []
  }
 ],
 "metadata": {
  "kernelspec": {
   "display_name": "Python 3 (ipykernel)",
   "language": "python",
   "name": "python3"
  },
  "language_info": {
   "codemirror_mode": {
    "name": "ipython",
    "version": 3
   },
   "file_extension": ".py",
   "mimetype": "text/x-python",
   "name": "python",
   "nbconvert_exporter": "python",
   "pygments_lexer": "ipython3",
   "version": "3.11.3"
  }
 },
 "nbformat": 4,
 "nbformat_minor": 5
}
