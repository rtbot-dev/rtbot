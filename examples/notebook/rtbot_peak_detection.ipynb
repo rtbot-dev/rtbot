{
 "cells": [
  {
   "cell_type": "code",
   "execution_count": 1,
   "id": "1a2568c5-b1da-4808-be6d-962023f6789f",
   "metadata": {},
   "outputs": [],
   "source": [
    "import rtbot as rb\n",
    "from rtbot import operators as op"
   ]
  },
  {
   "cell_type": "code",
   "execution_count": 2,
   "id": "5ed9f8a6-b136-4bd2-943d-c1042831c72f",
   "metadata": {},
   "outputs": [],
   "source": [
    "program = rb.Program(\n",
    "    title = \"test\",\n",
    "    author = \"user\",\n",
    "    license = \"MIT\",\n",
    ").addOperator(op.Input(\"in1\")) \\\n",
    ".addOperator(op.MovingAverage(\"ma1\", 6)) \\\n",
    ".addOperator(op.MovingAverage(\"ma2\", 250)) \\\n",
    ".addOperator(op.Minus(\"minus\", { \"i1\": {\"eager\": False }})) \\\n",
    ".addOperator(op.PeakDetector(\"peak\", 13)) \\\n",
    ".addOperator(op.Join(\"join\", 2, { \"i1\": {\"eager\": False }})) \\\n",
    ".addOperator(op.Output(\"out1\")) \\\n",
    ".addConnection(\"in1\", \"ma1\") \\\n",
    ".addConnection(\"ma1\", \"minus\") \\\n",
    ".addConnection(\"minus\", \"peak\") \\\n",
    ".addConnection(\"peak\", \"join\") \\\n",
    ".addConnection(\"join\", \"out1\", \"o2\") \\\n",
    ".addConnection(\"in1\", \"ma2\") \\\n",
    ".addConnection(\"ma2\", \"minus\", \"o1\", \"i2\") \\\n",
    ".addConnection(\"in1\", \"join\", \"o1\", \"i2\")"
   ]
  },
  {
   "cell_type": "code",
   "execution_count": 3,
   "id": "35da7310-6226-418e-9768-893c0583fc27",
   "metadata": {},
   "outputs": [
    {
     "data": {
      "text/plain": [
       "'{\"apiVersion\": \"v1\", \"operators\": [{\"type\": \"Input\", \"id\": \"in1\", \"numPorts\": 1}, {\"type\": \"MovingAverage\", \"id\": \"ma1\", \"n\": 6}, {\"type\": \"MovingAverage\", \"id\": \"ma2\", \"n\": 250}, {\"type\": \"Minus\", \"id\": \"minus\", \"policies\": {\"i1\": {\"eager\": false}}}, {\"type\": \"PeakDetector\", \"id\": \"peak\", \"n\": 13}, {\"type\": \"Join\", \"id\": \"join\", \"numPorts\": 2, \"policies\": {\"i1\": {\"eager\": false}}}, {\"type\": \"Output\", \"id\": \"out1\", \"numPorts\": 1}], \"connections\": [{\"from\": \"in1\", \"to\": \"ma1\", \"fromPort\": \"o1\", \"toPort\": \"i1\"}, {\"from\": \"ma1\", \"to\": \"minus\", \"fromPort\": \"o1\", \"toPort\": \"i1\"}, {\"from\": \"minus\", \"to\": \"peak\", \"fromPort\": \"o1\", \"toPort\": \"i1\"}, {\"from\": \"peak\", \"to\": \"join\", \"fromPort\": \"o1\", \"toPort\": \"i1\"}, {\"from\": \"join\", \"to\": \"out1\", \"fromPort\": \"o2\", \"toPort\": \"i1\"}, {\"from\": \"in1\", \"to\": \"ma2\", \"fromPort\": \"o1\", \"toPort\": \"i1\"}, {\"from\": \"ma2\", \"to\": \"minus\", \"fromPort\": \"o1\", \"toPort\": \"i2\"}, {\"from\": \"in1\", \"to\": \"join\", \"fromPort\": \"o1\", \"toPort\": \"i2\"}], \"title\": \"test\", \"author\": \"user\", \"license\": \"MIT\"}'"
      ]
     },
     "execution_count": 3,
     "metadata": {},
     "output_type": "execute_result"
    }
   ],
   "source": [
    "program.validate()\n",
    "program.toJson()"
   ]
  },
  {
   "cell_type": "code",
   "execution_count": 4,
   "id": "04227240-5ef6-4ddd-8905-8903cc8ffc0a",
   "metadata": {},
   "outputs": [
    {
     "data": {
      "application/json": {
       "apiVersion": "v1",
       "author": "user",
       "connections": [
        {
         "from": "in1",
         "fromPort": "o1",
         "to": "ma1",
         "toPort": "i1"
        },
        {
         "from": "ma1",
         "fromPort": "o1",
         "to": "minus",
         "toPort": "i1"
        },
        {
         "from": "minus",
         "fromPort": "o1",
         "to": "peak",
         "toPort": "i1"
        },
        {
         "from": "peak",
         "fromPort": "o1",
         "to": "join",
         "toPort": "i1"
        },
        {
         "from": "join",
         "fromPort": "o2",
         "to": "out1",
         "toPort": "i1"
        },
        {
         "from": "in1",
         "fromPort": "o1",
         "to": "ma2",
         "toPort": "i1"
        },
        {
         "from": "ma2",
         "fromPort": "o1",
         "to": "minus",
         "toPort": "i2"
        },
        {
         "from": "in1",
         "fromPort": "o1",
         "to": "join",
         "toPort": "i2"
        }
       ],
       "license": "MIT",
       "operators": [
        {
         "id": "in1",
         "numPorts": 1,
         "type": "Input"
        },
        {
         "id": "ma1",
         "n": 6,
         "type": "MovingAverage"
        },
        {
         "id": "ma2",
         "n": 250,
         "type": "MovingAverage"
        },
        {
         "id": "minus",
         "policies": {
          "i1": {
           "eager": false
          }
         },
         "type": "Minus"
        },
        {
         "id": "peak",
         "n": 13,
         "type": "PeakDetector"
        },
        {
         "id": "join",
         "numPorts": 2,
         "policies": {
          "i1": {
           "eager": false
          }
         },
         "type": "Join"
        },
        {
         "id": "out1",
         "numPorts": 1,
         "type": "Output"
        }
       ],
       "title": "test"
      },
      "text/plain": [
       "<IPython.core.display.JSON object>"
      ]
     },
     "execution_count": 4,
     "metadata": {
      "application/json": {
       "expanded": false,
       "root": "root"
      }
     },
     "output_type": "execute_result"
    }
   ],
   "source": [
    "import json\n",
    "from IPython.display import JSON\n",
    "JSON(json.loads(program.toJson()))"
   ]
  },
  {
   "cell_type": "code",
   "execution_count": 5,
   "id": "3018d693-76df-44d8-9276-09be2ff80387",
   "metadata": {},
   "outputs": [],
   "source": [
    "import numpy as np\n",
    "\n",
    "ppg = np.loadtxt(\"ppg.csv\", skiprows=1, delimiter=',')\n",
    "data = list(map(lambda r: [int(1e3 * r[0]), 1e-6 * r[1]], ppg))"
   ]
  },
  {
   "cell_type": "code",
   "execution_count": 7,
   "id": "0b353171-cf66-4440-bed6-fe58614f5067",
   "metadata": {},
   "outputs": [
    {
     "name": "stdout",
     "output_type": "stream",
     "text": [
      "Creating program {\"apiVersion\": \"v1\", \"operators\": [{\"type\": \"Input\", \"id\": \"in1\", \"numPorts\": 1}, {\"type\": \"MovingAverage\", \"id\": \"ma1\", \"n\": 6}, {\"type\": \"MovingAverage\", \"id\": \"ma2\", \"n\": 250}, {\"type\": \"Minus\", \"id\": \"minus\", \"policies\": {\"i1\": {\"eager\": false}}}, {\"type\": \"PeakDetector\", \"id\": \"peak\", \"n\": 13}, {\"type\": \"Join\", \"id\": \"join\", \"numPorts\": 2, \"policies\": {\"i1\": {\"eager\": false}}}, {\"type\": \"Output\", \"id\": \"out1\", \"numPorts\": 1}], \"connections\": [{\"from\": \"in1\", \"to\": \"ma1\", \"fromPort\": \"o1\", \"toPort\": \"i1\"}, {\"from\": \"ma1\", \"to\": \"minus\", \"fromPort\": \"o1\", \"toPort\": \"i1\"}, {\"from\": \"minus\", \"to\": \"peak\", \"fromPort\": \"o1\", \"toPort\": \"i1\"}, {\"from\": \"peak\", \"to\": \"join\", \"fromPort\": \"o1\", \"toPort\": \"i1\"}, {\"from\": \"join\", \"to\": \"out1\", \"fromPort\": \"o2\", \"toPort\": \"i1\"}, {\"from\": \"in1\", \"to\": \"ma2\", \"fromPort\": \"o1\", \"toPort\": \"i1\"}, {\"from\": \"ma2\", \"to\": \"minus\", \"fromPort\": \"o1\", \"toPort\": \"i2\"}, {\"from\": \"in1\", \"to\": \"join\", \"fromPort\": \"o1\", \"toPort\": \"i2\"}], \"title\": \"test\", \"author\": \"user\", \"license\": \"MIT\"}\n"
     ]
    }
   ],
   "source": [
    "result = rb.Run(program, data).exec()"
   ]
  },
  {
   "cell_type": "code",
   "execution_count": 9,
   "id": "123921ec-d8e2-4553-a65b-5859c7940573",
   "metadata": {},
   "outputs": [
    {
     "data": {
      "text/plain": [
       "dict_keys(['in1:o1', 'ma1:o1', 'ma2:o1', 'minus:o1', 'join:o1', 'join:o2', 'out1:o1', 'peak:o1'])"
      ]
     },
     "execution_count": 9,
     "metadata": {},
     "output_type": "execute_result"
    }
   ],
   "source": [
    "result.keys()"
   ]
  },
  {
   "cell_type": "code",
   "execution_count": 10,
   "id": "7e4a58e5-bae6-4573-a793-8ed0d2440cfc",
   "metadata": {},
   "outputs": [
    {
     "data": {
      "text/plain": [
       "{'time': [2326,\n",
       "  2968,\n",
       "  3619,\n",
       "  4286,\n",
       "  4803,\n",
       "  5236,\n",
       "  5745,\n",
       "  6195,\n",
       "  7121,\n",
       "  7571,\n",
       "  8005,\n",
       "  8847,\n",
       "  9648,\n",
       "  10173,\n",
       "  10356,\n",
       "  11082,\n",
       "  11332,\n",
       "  11816,\n",
       "  12483,\n",
       "  12666,\n",
       "  13092,\n",
       "  13692,\n",
       "  14326,\n",
       "  14984,\n",
       "  15660,\n",
       "  16594,\n",
       "  17394,\n",
       "  18228,\n",
       "  18762,\n",
       "  19104,\n",
       "  19854,\n",
       "  20638,\n",
       "  20788,\n",
       "  21272,\n",
       "  21897,\n",
       "  22498,\n",
       "  22715,\n",
       "  23132,\n",
       "  23332,\n",
       "  23774,\n",
       "  24399,\n",
       "  25016,\n",
       "  25675,\n",
       "  26517,\n",
       "  27259,\n",
       "  28001,\n",
       "  28844,\n",
       "  29561,\n",
       "  30253,\n",
       "  30436,\n",
       "  30937,\n",
       "  31162,\n",
       "  31604,\n",
       "  32263,\n",
       "  32880,\n",
       "  33505,\n",
       "  34156,\n",
       "  34931,\n",
       "  35723,\n",
       "  36549,\n",
       "  37366,\n",
       "  38125,\n",
       "  38950,\n",
       "  39684,\n",
       "  40343,\n",
       "  41010,\n",
       "  41644,\n",
       "  42253,\n",
       "  42878,\n",
       "  43520,\n",
       "  44187,\n",
       "  44946,\n",
       "  45722,\n",
       "  46489,\n",
       "  47239,\n",
       "  47940,\n",
       "  48615,\n",
       "  49249,\n",
       "  49866,\n",
       "  50458,\n",
       "  51058,\n",
       "  51659,\n",
       "  52251,\n",
       "  52868,\n",
       "  53510,\n",
       "  54219,\n",
       "  54961,\n",
       "  55728,\n",
       "  56529,\n",
       "  57304,\n",
       "  58088,\n",
       "  58839,\n",
       "  59539],\n",
       " 'value': [1.0097333333332728,\n",
       "  1.1558419946665026,\n",
       "  0.9150937919999365,\n",
       "  1.4558804639999607,\n",
       "  -1.5128626186667162,\n",
       "  2.0439895466665945,\n",
       "  -1.1635332746668183,\n",
       "  1.9044786079999056,\n",
       "  2.164019946666457,\n",
       "  -0.7181734026669062,\n",
       "  2.129897893333066,\n",
       "  1.90084201066648,\n",
       "  1.797212602666491,\n",
       "  -3.920861509333477,\n",
       "  -1.196331568000133,\n",
       "  -1.7062716160001514,\n",
       "  -1.449918597333422,\n",
       "  1.8908855146666497,\n",
       "  2.9611474559999635,\n",
       "  2.2366369279999674,\n",
       "  2.9937311039999486,\n",
       "  3.2427846826666524,\n",
       "  3.051564863999971,\n",
       "  3.432135712000033,\n",
       "  3.0525126879999647,\n",
       "  3.2160615839999167,\n",
       "  2.8225191840000434,\n",
       "  1.4326982933334733,\n",
       "  -2.765936074666584,\n",
       "  0.5327613866667917,\n",
       "  0.46671142933340093,\n",
       "  1.1313720373333922,\n",
       "  0.5045728266667453,\n",
       "  1.2606197333334705,\n",
       "  1.9401886400000166,\n",
       "  1.9698003519999787,\n",
       "  1.0388849706666576,\n",
       "  3.6062265120000063,\n",
       "  2.6583777600000076,\n",
       "  4.746093152000078,\n",
       "  5.501715552000242,\n",
       "  4.531112826666913,\n",
       "  1.7799943626669616,\n",
       "  1.5707910880002274,\n",
       "  1.218994549333587,\n",
       "  0.7675997333336468,\n",
       "  0.5957471040002957,\n",
       "  0.558376576000299,\n",
       "  0.9621743733335819,\n",
       "  0.3706842560002599,\n",
       "  1.2504629653334831,\n",
       "  0.799579013333485,\n",
       "  2.0050551786668365,\n",
       "  2.930936917333561,\n",
       "  3.2532387840002386,\n",
       "  3.4371790240002653,\n",
       "  3.2243791893335896,\n",
       "  2.3579429653336064,\n",
       "  2.46772640533365,\n",
       "  2.020181376000302,\n",
       "  1.3513119680003243,\n",
       "  1.3490153013335515,\n",
       "  1.3401942986668658,\n",
       "  1.6672008106669125,\n",
       "  1.8789012160002514,\n",
       "  2.127577866666904,\n",
       "  2.3217989280001987,\n",
       "  2.601924506666869,\n",
       "  2.8602747946668643,\n",
       "  2.717225200000186,\n",
       "  2.5339397760002527,\n",
       "  2.3299102026668805,\n",
       "  1.7281265546669147,\n",
       "  1.2029991360002157,\n",
       "  1.2079576160002574,\n",
       "  1.6854409280002614,\n",
       "  2.002909146666937,\n",
       "  2.013626709333529,\n",
       "  2.078135018666913,\n",
       "  2.2019722560002677,\n",
       "  2.4691868586669017,\n",
       "  2.3270118826668096,\n",
       "  1.9846694560001978,\n",
       "  1.438711824000201,\n",
       "  1.0118354240002319,\n",
       "  0.7121054880002688,\n",
       "  0.7250563200002986,\n",
       "  0.6233975626669661,\n",
       "  0.47670849600029186,\n",
       "  0.3424433440002801,\n",
       "  0.15541278400029768,\n",
       "  0.2386146133336311,\n",
       "  0.5606662880003483]}"
      ]
     },
     "execution_count": 10,
     "metadata": {},
     "output_type": "execute_result"
    }
   ],
   "source": [
    "result[\"peak:o1\"]"
   ]
  },
  {
   "cell_type": "code",
   "execution_count": null,
   "id": "c7ffe380-1b88-48fd-90bc-95e73a2f8576",
   "metadata": {},
   "outputs": [],
   "source": []
  }
 ],
 "metadata": {
  "kernelspec": {
   "display_name": "Python 3 (ipykernel)",
   "language": "python",
   "name": "python3"
  },
  "language_info": {
   "codemirror_mode": {
    "name": "ipython",
    "version": 3
   },
   "file_extension": ".py",
   "mimetype": "text/x-python",
   "name": "python",
   "nbconvert_exporter": "python",
   "pygments_lexer": "ipython3",
   "version": "3.11.3"
  }
 },
 "nbformat": 4,
 "nbformat_minor": 5
}
